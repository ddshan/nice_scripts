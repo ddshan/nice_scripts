{
 "cells": [
  {
   "cell_type": "markdown",
   "metadata": {},
   "source": [
    "### choose for faster-rcnn"
   ]
  },
  {
   "cell_type": "code",
   "execution_count": 8,
   "metadata": {},
   "outputs": [
    {
     "name": "stderr",
     "output_type": "stream",
     "text": [
      "  1%|          | 12/1000 [00:00<00:08, 115.41it/s]"
     ]
    },
    {
     "name": "stdout",
     "output_type": "stream",
     "text": [
      "40276\n",
      "1000\n"
     ]
    },
    {
     "name": "stderr",
     "output_type": "stream",
     "text": [
      "100%|██████████| 1000/1000 [00:06<00:00, 145.96it/s]\n"
     ]
    }
   ],
   "source": [
    "import glob, random, shutil, os\n",
    "from tqdm import tqdm\n",
    "random.seed(9)\n",
    "\n",
    "image_list = glob.glob(\"/x/dandans/nice_script/frame_cache_HD/*/*.jpg\")\n",
    "print(len(image_list))\n",
    "filtered_1000 = random.sample(image_list, 1000)\n",
    "print(len(filtered_1000))\n",
    "\n",
    "if not os.path.exists(f\"/x/dandans/nice_script/frame_HD_1000/\"):\n",
    "    os.makedirs(f\"/x/dandans/nice_script/frame_HD_1000/\")\n",
    "for src in tqdm(filtered_1000):\n",
    "    image_name = src.split(\"/\")[-1]\n",
    "    dst = f\"/x/dandans/nice_script/frame_HD_1000/{image_name}\"\n",
    "    shutil.copyfile(src, dst)\n",
    "#     print(src)\n",
    "#     print(dst)\n",
    "#     break\n",
    "\n"
   ]
  },
  {
   "cell_type": "markdown",
   "metadata": {},
   "source": [
    "### all for faster-rcnn"
   ]
  },
  {
   "cell_type": "code",
   "execution_count": 9,
   "metadata": {},
   "outputs": [
    {
     "name": "stderr",
     "output_type": "stream",
     "text": [
      "100%|██████████| 40276/40276 [01:43<00:00, 389.22it/s]\n"
     ]
    }
   ],
   "source": [
    "import glob, random, shutil, os\n",
    "from tqdm import tqdm\n",
    "\n",
    "image_list = glob.glob(\"/x/dandans/nice_script/frame_cache_HD/*/*.jpg\")\n",
    "\n",
    "if not os.path.exists(f\"/x/dandans/nice_script/frame_HD_10000/\"):\n",
    "    os.makedirs(f\"/x/dandans/nice_script/frame_HD_10000/\")\n",
    "for src in tqdm(image_list[:10000]):\n",
    "    image_name = src.split(\"/\")[-1]\n",
    "    dst = f\"/x/dandans/nice_script/frame_HD_10000/{image_name}\"\n",
    "    shutil.copyfile(src, dst)"
   ]
  },
  {
   "cell_type": "code",
   "execution_count": null,
   "metadata": {},
   "outputs": [],
   "source": [
    "import cv2, os, sys, shutil\n",
    "from demo_handscore import main_demo\n",
    "output_folder = \"/x/dandans/nice_script/frame_HD_1000/\"\n",
    "_, _, num_handfram, hand_num_list = main_demo(output_folder, \"\")\n",
    "print(max(hand_num_list))"
   ]
  },
  {
   "cell_type": "markdown",
   "metadata": {},
   "source": [
    "### gen clear frames"
   ]
  },
  {
   "cell_type": "code",
   "execution_count": 14,
   "metadata": {},
   "outputs": [
    {
     "name": "stdout",
     "output_type": "stream",
     "text": [
      "2342\n",
      "/x/dandans/short_videos/short_videos_4/puzzle_1288_EkT2alo_8Ec/EkT2alo_8Ec_short_004.mp4 EkT2alo_8Ec_short_004 /x/dandans/nice_script/frame_cache_HD/EkT2alo_8Ec_short_004/EkT2alo_8Ec_short_004_%06d.jpg\n",
      "./../try_pyfasterrcnn/ffmpeg-git-20190514-amd64-static/ffmpeg -i /x/dandans/short_videos/short_videos_4/puzzle_1288_EkT2alo_8Ec/EkT2alo_8Ec_short_004.mp4 -r 2 -q:v 2 /x/dandans/nice_script/frame_cache_HD/EkT2alo_8Ec_short_004/EkT2alo_8Ec_short_004_%06d.jpg\n",
      "@@@@@@@@@@@@@@@@@ success extraction for EkT2alo_8Ec_short_004!\n"
     ]
    }
   ],
   "source": [
    "import glob, os, sys\n",
    "from tqdm import tqdm\n",
    "\n",
    "short_list = glob.glob(\"/x/dandans/short_videos/*/*/*.mp4\")\n",
    "#print(short_list)\n",
    "print(len(short_list))\n",
    "\n",
    "save_folder = \"./frame_cache_HD\"\n",
    "\n",
    "for a_path in short_list:\n",
    "    video_name = a_path.split(\"/\")[-1][:-4]\n",
    "    output_path = f\"/x/dandans/nice_script/frame_cache_HD/{video_name}/{video_name}_%06d.jpg\"\n",
    "    output_path_folder = f\"/x/dandans/nice_script/frame_cache_HD/{video_name}\"\n",
    "    print(a_path, video_name, output_path) \n",
    "    \n",
    "    if not os.path.exists(output_path_folder):\n",
    "        os.makedirs(output_path_folder)\n",
    "    \n",
    "    # ffmpeg -i inputfile.avi -r 1 -f image2 image-%05d.jpeg \n",
    "    cmd = f\"./../try_pyfasterrcnn/ffmpeg-git-20190514-amd64-static/ffmpeg -i {a_path} -r 2 -q:v 2 {output_path}\"\n",
    "    print(cmd)\n",
    "    if (os.system(cmd) == 0):\n",
    "        print(f\"@@@@@@@@@@@@@@@@@ success extraction for {video_name}!\")\n",
    "        \n",
    "    break"
   ]
  },
  {
   "cell_type": "code",
   "execution_count": 15,
   "metadata": {},
   "outputs": [
    {
     "name": "stdout",
     "output_type": "stream",
     "text": [
      "25\n"
     ]
    }
   ],
   "source": [
    "import glob, os, sys\n",
    "from tqdm import tqdm\n",
    "\n",
    "folder_list = glob.glob(\"/x/dandans/nice_script/frame_cache_HD/*\")\n",
    "max_len = 0\n",
    "for item in folder_list:\n",
    "    ls = os.listdir(item)\n",
    "    if len(ls) > max_len:\n",
    "        max_len = len(ls)\n",
    "print(max_len)"
   ]
  },
  {
   "cell_type": "code",
   "execution_count": null,
   "metadata": {},
   "outputs": [],
   "source": []
  },
  {
   "cell_type": "code",
   "execution_count": null,
   "metadata": {},
   "outputs": [],
   "source": []
  }
 ],
 "metadata": {
  "kernelspec": {
   "display_name": "Python 3",
   "language": "python",
   "name": "python3"
  },
  "language_info": {
   "codemirror_mode": {
    "name": "ipython",
    "version": 3
   },
   "file_extension": ".py",
   "mimetype": "text/x-python",
   "name": "python",
   "nbconvert_exporter": "python",
   "pygments_lexer": "ipython3",
   "version": "3.7.3"
  }
 },
 "nbformat": 4,
 "nbformat_minor": 2
}
