{
 "cells": [
  {
   "cell_type": "code",
   "execution_count": 69,
   "metadata": {},
   "outputs": [
    {
     "name": "stdout",
     "output_type": "stream",
     "text": [
      "401\n",
      "2342\n",
      "401\n"
     ]
    },
    {
     "data": {
      "text/plain": [
       "31"
      ]
     },
     "execution_count": 69,
     "metadata": {},
     "output_type": "execute_result"
    }
   ],
   "source": [
    "import os, glob, json\n",
    "\n",
    "folder_path = \"/x/dandans/short_videos/short_video*/*\"\n",
    "folder_list = glob.glob(folder_path)\n",
    "print(len(folder_list))\n",
    "\n",
    "mp4_path = glob.glob(\"/x/dandans/short_videos/short_video*/*/*.mp4\")\n",
    "print(len(mp4_path))\n",
    "\n",
    "# make a dict for visualization\n",
    "short_video_dict = {}\n",
    "\n",
    "for item in folder_list:\n",
    "    \n",
    "    video_in_folder = glob.glob(item+\"/*.mp4\")\n",
    "    video_in_folder.sort()\n",
    "    video_name = item.split(\"/\")[-1].split(\".\")[0]\n",
    "    genre = video_name.split(\"_\")[0]\n",
    "    video_id = video_name.split(\"_\", 2)[-1].split(\".\")[0]\n",
    "    video_path = f\"/x/dandans/hand_video_dataset_v2/{genre}_videos/{video_id}/{video_name}.mp4\"\n",
    "    \n",
    "#     print(item)\n",
    "#     print(video_name)\n",
    "#     print(genre)\n",
    "#    print(video_path + \"\\n\")\n",
    "    if os.path.exists(video_path):\n",
    "        short_video_dict[video_path] = video_in_folder\n",
    "    else:\n",
    "        print(video_path)\n",
    "        \n",
    "    #short_video_dict[video_path] = video_in_folder\n",
    "    \n",
    "with open(\"short_video_dict.json\", \"w\") as f:\n",
    "    json.dump(short_video_dict, f, indent=4)\n",
    "    \n",
    "#print(short_video_dict)\n",
    "print(len(short_video_dict))\n",
    "\n",
    "#\n",
    "max([ len(item) for item in short_video_dict.values() ])\n"
   ]
  }
 ],
 "metadata": {
  "kernelspec": {
   "display_name": "Python 3",
   "language": "python",
   "name": "python3"
  },
  "language_info": {
   "codemirror_mode": {
    "name": "ipython",
    "version": 3
   },
   "file_extension": ".py",
   "mimetype": "text/x-python",
   "name": "python",
   "nbconvert_exporter": "python",
   "pygments_lexer": "ipython3",
   "version": "3.6.7"
  }
 },
 "nbformat": 4,
 "nbformat_minor": 2
}
