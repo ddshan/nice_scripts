{
 "cells": [
  {
   "cell_type": "code",
   "execution_count": null,
   "metadata": {},
   "outputs": [],
   "source": [
    "'''\n",
    "TODO: make shorts from 500 videos\n",
    "1 use faster-rcnn to do hand detection \n",
    "2 choose shorts\n",
    "3 combine them into a shorts about 10 seconds\n",
    "'''"
   ]
  },
  {
   "cell_type": "code",
   "execution_count": null,
   "metadata": {},
   "outputs": [],
   "source": [
    "import cv2, os, sys\n",
    "sys.path.append(\"/x/dandans/try_pyfasterrcnn/faster-rcnn.pytorch/\")\n",
    "from demo_handscore import main_demo\n",
    "\n",
    "with open(\"selected_101_200.txt\", \"r\") as f:\n",
    "    for video_path in f:\n",
    "        video_path, duration = video_path.strip().split(\" \")\n",
    "        vid = video_path.split(\"/\")[3].split(\"_\", 2)[2][:-4]\n",
    "        \n",
    "        # write all frames into a floder in dev/shm\n",
    "        output_folder = f\"/dev/shm/{vid}\" \n",
    "        if not os.path.exists(output_folder):\n",
    "            os.mkdir(output_folder)\n",
    "        output_path = f\"/dev/shm/{vid}/%06d.jpg\" \n",
    "#         cmd = f\"ffmpeg -i {video_path} {output_path}\"\n",
    "#         if (os.system(cmd) == 0):\n",
    "#             print(\"success for one video!\")\n",
    "            \n",
    "        # faster rcnn        \n",
    "        _, _, num_handfram, hand_num_list = main_demo(output_folder, vid)\n",
    "        \n",
    "        # get the list, not choose the range\n",
    "        \n",
    "        \n",
    "        print(video_path, vid, duration)\n",
    "        break"
   ]
  }
 ],
 "metadata": {
  "kernelspec": {
   "display_name": "Python 3",
   "language": "python",
   "name": "python3"
  },
  "language_info": {
   "codemirror_mode": {
    "name": "ipython",
    "version": 3
   },
   "file_extension": ".py",
   "mimetype": "text/x-python",
   "name": "python",
   "nbconvert_exporter": "python",
   "pygments_lexer": "ipython3",
   "version": "3.6.7"
  }
 },
 "nbformat": 4,
 "nbformat_minor": 2
}
