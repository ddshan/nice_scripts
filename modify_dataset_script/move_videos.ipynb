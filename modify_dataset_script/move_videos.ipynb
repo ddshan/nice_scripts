{
 "cells": [
  {
   "cell_type": "code",
   "execution_count": null,
   "metadata": {},
   "outputs": [],
   "source": [
    "'''\n",
    "TODO:\n",
    "1 move videos to a new folder\n",
    "2 filter out duration > 30 min = 30*60=1800 s\n",
    "3 download thumbnails for each video\n",
    "'''"
   ]
  },
  {
   "cell_type": "code",
   "execution_count": 5,
   "metadata": {},
   "outputs": [
    {
     "name": "stdout",
     "output_type": "stream",
     "text": [
      "['study', 'packing', 'boardgame', 'puzzle', 'diy', 'gardening', 'food', 'drink', 'repair', 'housework', 'furniture']\n",
      "['./ffprobe_json/study', './ffprobe_json/packing', './ffprobe_json/boardgame', './ffprobe_json/puzzle', './ffprobe_json/diy', './ffprobe_json/gardening', './ffprobe_json/food', './ffprobe_json/drink', './ffprobe_json/repair', './ffprobe_json/housework', './ffprobe_json/furniture']\n",
      "study******************************\n",
      "num of json files = 1821\n",
      "packing******************************\n",
      "num of json files = 1983\n",
      "boardgame******************************\n",
      "num of json files = 1950\n",
      "puzzle******************************\n",
      "num of json files = 1981\n",
      "diy******************************\n",
      "num of json files = 1986\n",
      "gardening******************************\n",
      "num of json files = 1017\n",
      "food******************************\n",
      "num of json files = 1987\n",
      "drink******************************\n",
      "num of json files = 1981\n",
      "repair******************************\n",
      "num of json files = 1978\n",
      "housework******************************\n",
      "num of json files = 1966\n",
      "furniture******************************\n",
      "num of json files = 1976\n",
      "furniture len of src and des = 8409 8409\n",
      "../picked_video_mp4_folder/repair_videos/repair_1346_GD06YW7TOak.mp4 6\n"
     ]
    }
   ],
   "source": [
    "# deal with videos in ffprobe_json\n",
    "\n",
    "import glob, json, os, random\n",
    "import shutil\n",
    "from concurrent.futures import ThreadPoolExecutor\n",
    "random.seed(0)\n",
    "\n",
    "def copy_video(src, des):\n",
    "    shutil.copy2(src, des)\n",
    "    print(des)\n",
    "\n",
    "\n",
    "genre_folder_list = glob.glob(\"./ffprobe_json/*\")\n",
    "genre_list = [ item.split(\"/\")[2] for item in genre_folder_list]\n",
    "print(genre_list)\n",
    "print(genre_folder_list)\n",
    "\n",
    "src_list = []\n",
    "des_list = []\n",
    "for genre in genre_list:\n",
    "    print(genre + \"*\" *30)\n",
    "#     genre_json_list = glob.glob(f'./ffprobe_json/drink/*.json')\n",
    "#     for i in genre_json_list:\n",
    "#         if \"bo2XrSymaFA\" in i:\n",
    "#             print(i)\n",
    "#             break\n",
    "    genre_json_list = glob.glob(f'./ffprobe_json/{genre}/*.json')\n",
    "    print(f'num of json files = {len(genre_json_list)}')\n",
    "    for item in genre_json_list:\n",
    "        a_json_info = json.load(open(item, \"r\"))\n",
    "        #\n",
    "        filename = a_json_info[\"format\"][\"filename\"]\n",
    "        duration = int (float( a_json_info[\"streams\"][0][\"duration\"] ) / 60)\n",
    "        \n",
    "        if 2 < duration and duration < 9: # move to a new place\n",
    "            video_name = filename.split(\"/\")[2]\n",
    "            if video_name.split(\"_\")[0] != genre:\n",
    "                continue\n",
    "            vid = video_name.split(\"_\", 2)[2][:-4]\n",
    "            origin_video_path = f'../picked_video_mp4_folder/{filename[2:]}'\n",
    "            new_folder_path = f'../hand_video_dataset_v2/{genre}_videos/{vid}'\n",
    "#             if not os.path.exists(new_folder_path):\n",
    "#                 os.makedirs(new_folder_path)\n",
    "            new_video_path = os.path.join(new_folder_path, video_name)\n",
    "            #print(vid, video_name, origin_video_path, new_video_path)\n",
    "            src_list.append(origin_video_path + \" \" + str(duration))\n",
    "            des_list.append(new_video_path)\n",
    "            #shutil.copy2(origin_video_path, new_video_path)\n",
    "    \n",
    "print(f\"{genre} len of src and des = {len(src_list)} {len(des_list)}\")\n",
    "\n",
    "# pool = ThreadPoolExecutor(48)\n",
    "# pool.map(copy_video, src_list, des_list)\n",
    "\n",
    "selected_500 = random.sample(src_list, 500)\n",
    "with open(\"selected_401_500.txt\", \"w\") as f:\n",
    "    for item in selected_500[400:500]:\n",
    "        f.write(item + \"\\n\")\n",
    "\n",
    "print(selected_500[0])"
   ]
  },
  {
   "cell_type": "code",
   "execution_count": null,
   "metadata": {},
   "outputs": [],
   "source": []
  }
 ],
 "metadata": {
  "kernelspec": {
   "display_name": "Python 3",
   "language": "python",
   "name": "python3"
  },
  "language_info": {
   "codemirror_mode": {
    "name": "ipython",
    "version": 3
   },
   "file_extension": ".py",
   "mimetype": "text/x-python",
   "name": "python",
   "nbconvert_exporter": "python",
   "pygments_lexer": "ipython3",
   "version": "3.6.7"
  }
 },
 "nbformat": 4,
 "nbformat_minor": 2
}
