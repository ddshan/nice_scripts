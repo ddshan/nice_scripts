{
 "cells": [
  {
   "cell_type": "code",
   "execution_count": 5,
   "metadata": {},
   "outputs": [
    {
     "name": "stdout",
     "output_type": "stream",
     "text": [
      "19084\n",
      "../hand_video_dataset_v2/puzzle_videos/-SaHK3CRlYk -SaHK3CRlYk ../hand_video_dataset_v2/puzzle_videos/-SaHK3CRlYk/-SaHK3CRlYk_0.jpg\n",
      "../hand_video_dataset_v2/puzzle_videos/QC9drNi8lBM QC9drNi8lBM ../hand_video_dataset_v2/puzzle_videos/QC9drNi8lBM/QC9drNi8lBM_0.jpg\n",
      "../hand_video_dataset_v2/puzzle_videos/PQRmxCWrbiA PQRmxCWrbiA ../hand_video_dataset_v2/puzzle_videos/PQRmxCWrbiA/PQRmxCWrbiA_0.jpg\n",
      "../hand_video_dataset_v2/puzzle_videos/GJLKlV9JwNA GJLKlV9JwNA ../hand_video_dataset_v2/puzzle_videos/GJLKlV9JwNA/GJLKlV9JwNA_0.jpg\n",
      "../hand_video_dataset_v2/puzzle_videos/gOQcX8WUTys gOQcX8WUTys ../hand_video_dataset_v2/puzzle_videos/gOQcX8WUTys/gOQcX8WUTys_0.jpg\n",
      "../hand_video_dataset_v2/puzzle_videos/PZuUxct8RG8 PZuUxct8RG8 ../hand_video_dataset_v2/puzzle_videos/PZuUxct8RG8/PZuUxct8RG8_0.jpg\n",
      "../hand_video_dataset_v2/puzzle_videos/NlVBBG0i_WE NlVBBG0i_WE ../hand_video_dataset_v2/puzzle_videos/NlVBBG0i_WE/NlVBBG0i_WE_0.jpg\n",
      "../hand_video_dataset_v2/puzzle_videos/X_3CPn9no2I X_3CPn9no2I ../hand_video_dataset_v2/puzzle_videos/X_3CPn9no2I/X_3CPn9no2I_0.jpg\n",
      "../hand_video_dataset_v2/puzzle_videos/R3smVaGt_tg R3smVaGt_tg ../hand_video_dataset_v2/puzzle_videos/R3smVaGt_tg/R3smVaGt_tg_0.jpg\n",
      "../hand_video_dataset_v2/puzzle_videos/xikheyeqLc0 xikheyeqLc0 ../hand_video_dataset_v2/puzzle_videos/xikheyeqLc0/xikheyeqLc0_0.jpg\n"
     ]
    }
   ],
   "source": [
    "import os, glob\n",
    "from urllib.request import urlretrieve\n",
    "\n",
    "\n",
    "dataset_path = f\"../hand_video_dataset_v2/\"\n",
    "#genre_folder_path = glob.glob(f\"../hand_video_dataset_v2/*_*\")\n",
    "#video_id_folder_path = glob.glob(f\"../hand_video_dataset_v2/*_*/*\")\n",
    "video_id_folder_list = glob.glob(f\"../hand_video_dataset_v2/*_*/*\")\n",
    "print(len(video_id_folder_list))\n",
    "\n",
    "for item in video_id_folder_list[:10]:\n",
    "    video_id = item.split(\"/\")[-1]\n",
    "\n",
    "    try:\n",
    "        url0 = \"https://img.youtube.com/vi/\" + video_id + \"/\" + str(0) +\".jpg\"\n",
    "        url1 = \"https://img.youtube.com/vi/\" + video_id + \"/\" + str(1) +\".jpg\"\n",
    "        url2 = \"https://img.youtube.com/vi/\" + video_id + \"/\" + str(2) +\".jpg\"\n",
    "        url3 = \"https://img.youtube.com/vi/\" + video_id + \"/\" + str(3) +\".jpg\"\n",
    "\n",
    "        filename0 = item + \"/\" + video_id + \"_\" + str(0) +\".jpg\"\n",
    "        filename1 = item + \"/\" + video_id + \"_\" + str(1) +\".jpg\"\n",
    "        filename2 = item + \"/\" + video_id + \"_\" + str(2) +\".jpg\"\n",
    "        filename3 = item + \"/\" + video_id + \"_\" + str(3) +\".jpg\"\n",
    "\n",
    "        print(item, video_id, filename0)\n",
    "\n",
    "        urlretrieve(url0, filename0)\n",
    "        urlretrieve(url1, filename1)\n",
    "        urlretrieve(url2, filename2)\n",
    "        urlretrieve(url3, filename3)\n",
    "        \n",
    "    except:\n",
    "        print(f\"{video_id} fail\")\n",
    "    \n",
    "    \n",
    "    \n",
    "    "
   ]
  }
 ],
 "metadata": {
  "kernelspec": {
   "display_name": "Python 3",
   "language": "python",
   "name": "python3"
  },
  "language_info": {
   "codemirror_mode": {
    "name": "ipython",
    "version": 3
   },
   "file_extension": ".py",
   "mimetype": "text/x-python",
   "name": "python",
   "nbconvert_exporter": "python",
   "pygments_lexer": "ipython3",
   "version": "3.6.7"
  }
 },
 "nbformat": 4,
 "nbformat_minor": 2
}
