{
 "cells": [
  {
   "cell_type": "code",
   "execution_count": 7,
   "metadata": {},
   "outputs": [
    {
     "name": "stderr",
     "output_type": "stream",
     "text": [
      " 33%|███▎      | 4/12 [00:00<00:00, 34.64it/s]"
     ]
    },
    {
     "name": "stdout",
     "output_type": "stream",
     "text": [
      "['../hand_video_dataset_v2/puzzle_videos', '../hand_video_dataset_v2/repair_videos', '../hand_video_dataset_v2/packing_videos', '../hand_video_dataset_v2/furniture_videos', '../hand_video_dataset_v2/food_videos', '../hand_video_dataset_v2/boardgame_videos', '../hand_video_dataset_v2/diy_videos', '../hand_video_dataset_v2/ffprobe_json', '../hand_video_dataset_v2/drink_videos', '../hand_video_dataset_v2/study_videos', '../hand_video_dataset_v2/gardening_videos', '../hand_video_dataset_v2/housework_videos']\n",
      "puzzle len = 1947\n",
      "repair len = 1919\n",
      "packing len = 1925\n",
      "furniture len = 1936\n",
      "food len = 1918\n",
      "boardgame len = 1848\n"
     ]
    },
    {
     "name": "stderr",
     "output_type": "stream",
     "text": [
      "100%|██████████| 12/12 [00:00<00:00, 38.47it/s]"
     ]
    },
    {
     "name": "stdout",
     "output_type": "stream",
     "text": [
      "diy len = 1969\n",
      "ffprobe len = 0\n",
      "drink len = 1911\n",
      "study len = 798\n",
      "gardening len = 996\n",
      "housework len = 1906\n"
     ]
    },
    {
     "name": "stderr",
     "output_type": "stream",
     "text": [
      "\n"
     ]
    }
   ],
   "source": [
    "import glob\n",
    "import os\n",
    "from tqdm import tqdm\n",
    "\n",
    "video_folder_list = glob.glob(\"../hand_video_dataset_v2/*_*\")\n",
    "print(video_folder_list)\n",
    "for video_folder in tqdm(video_folder_list):\n",
    "    genre = video_folder.split(\"/\")[-1].split(\"_\")[0]\n",
    "    video_list = glob.glob(f\"{video_folder}/*/*.mp4\")\n",
    "    print(f\"{genre} len = {len(video_list)}\")"
   ]
  },
  {
   "cell_type": "code",
   "execution_count": 1,
   "metadata": {},
   "outputs": [
    {
     "name": "stdout",
     "output_type": "stream",
     "text": [
      "20689\n",
      "20689\n",
      "['5cieBCDZH54', 'OzolvethwAU', 'uTx460w4ca4', 'EwyLZFJWtRI', '1WdyLT-ahX0', 'uesVG16EgNM', '-1nttENSWVE', 'NbZgUnRQT08', 'bWpvMMlzEHg', 'Y55NLrMjgm8']\n"
     ]
    }
   ],
   "source": [
    "import glob, json\n",
    "from tqdm import tqdm\n",
    "\n",
    "info_json_list = glob.glob(\"..//*/*_*.mp4\")\n",
    "print(len(info_json_list))\n",
    "vid_list = [ item.split(\"/\")[2].split(\"_\", 2)[2][:-4] for item in info_json_list ]\n",
    "print(len(vid_list))\n",
    "print(vid_list[:10])\n",
    "with open(\"picked_vid_2.txt\", \"w\") as f:\n",
    "    for item in vid_list:\n",
    "        f.write(item + \"\\n\")\n"
   ]
  },
  {
   "cell_type": "code",
   "execution_count": 8,
   "metadata": {},
   "outputs": [
    {
     "name": "stdout",
     "output_type": "stream",
     "text": [
      "19073\n",
      "19073\n",
      "{'1280x720': 15284, '640x352': 76, '640x360': 1290, '480x360': 1065, '960x720': 148, '490x360': 23, '568x320': 167, '1280x544': 1, '426x244': 1, '480x272': 19, '406x720': 35, '640x356': 27, '480x320': 26, '540x360': 90, '204x360': 2, '450x360': 20, '720x720': 46, '384x288': 15, '1252x720': 1, '480x270': 37, '640x350': 5, '600x360': 8, '480x300': 1, '492x360': 19, '512x288': 16, '468x360': 1, '636x360': 39, '638x360': 15, '1152x720': 9, '320x240': 174, '360x360': 34, '1272x720': 2, '1280x712': 2, '624x352': 2, '626x360': 10, '624x360': 1, '608x360': 7, '400x230': 2, '1270x720': 37, '1280x676': 7, '478x360': 3, '352x288': 6, '400x224': 4, '590x360': 2, '426x240': 13, '494x360': 1, '630x360': 3, '1200x720': 2, '160x120': 5, '628x360': 2, '1274x720': 5, '1280x540': 1, '1280x714': 15, '400x302': 1, '640x358': 17, '640x354': 6, '1280x718': 10, '1278x720': 8, '1212x720': 1, '474x360': 2, '634x360': 2, '1000x720': 1, '536x296': 1, '480x352': 3, '1080x720': 7, '1072x720': 1, '1164x720': 1, '576x324': 1, '1280x594': 1, '632x360': 5, '536x360': 1, '486x360': 22, '500x360': 1, '202x360': 9, '268x360': 1, '270x360': 1, '570x320': 1, '460x286': 1, '288x360': 2, '544x360': 1, '408x360': 1, '958x720': 1, '352x262': 6, '432x240': 1, '500x280': 1, '176x144': 1, '400x226': 3, '192x144': 5, '484x360': 2, '1280x406': 1, '320x180': 10, '964x720': 1, '900x720': 1, '320x236': 1, '352x264': 2, '1280x674': 1, '480x264': 3, '962x720': 3, '376x286': 1, '360x288': 1, '428x240': 1, '596x324': 1, '640x346': 1, '422x360': 2, '444x250': 1, '1280x700': 2, '320x262': 1, '636x358': 1, '448x360': 1, '400x220': 3, '352x240': 1, '634x354': 1, '482x360': 7, '400x294': 1, '600x332': 1, '1280x404': 3, '476x360': 3, '370x360': 1, '638x356': 1, '470x360': 5, '604x336': 1, '1260x720': 1, '498x360': 1, '408x720': 2, '1280x710': 1, '864x720': 1, '1276x720': 1, '600x340': 1, '320x176': 1, '918x720': 1, '472x360': 1, '240x360': 1, '1086x720': 2, '432x720': 1, '1280x640': 1, '640x342': 1, '626x352': 1, '1280x684': 1, '1074x720': 1, '460x360': 1, '240x180': 1, '404x720': 1, '440x300': 1, '376x288': 1, '1280x706': 1, '1170x720': 1, '206x360': 1, '1088x720': 1, '480x324': 1, '328x266': 1, '180x120': 1, '198x360': 1, '540x300': 1, '498x280': 1, '618x360': 1, '352x316': 1, '360x264': 1, '622x346': 1, '1082x720': 1, '436x360': 1, '576x360': 1, '496x360': 1, '488x360': 1, '640x336': 1, '982x720': 1, '400x300': 1, '534x360': 1, '542x360': 1, '526x360': 1, '320x246': 1, '438x360': 1, '320x212': 1, '592x334': 1}\n",
      "173\n"
     ]
    }
   ],
   "source": [
    "import glob, json\n",
    "from tqdm import tqdm\n",
    "\n",
    "info_json_list = glob.glob(\"../hand_video_dataset_v2/ffprobe_json/*/*.json\") #../hand_video_dataset_v2/ffprobe_json/{genre}_ffprob\n",
    "print(len(info_json_list))\n",
    "\n",
    "'''\n",
    "duration is xxx(s)\n",
    "1 total duration\n",
    "2 duration distribution\n",
    "3 resolution distribution\n",
    "4 channel distribution (seperated, should be done using response json files)\n",
    "'''\n",
    "resolution_dict = {}\n",
    "durarion_list = []\n",
    "\n",
    "for item in info_json_list:\n",
    "    info = json.load(open(item, \"r\"))\n",
    "    #print(info[\"format\"][\"filename\"])\n",
    "    \n",
    "    dura = int(float(info[\"streams\"][0][\"duration\"])/60) # int minute\n",
    "    durarion_list.append(dura)\n",
    "    \n",
    "    if \"height\" in info[\"streams\"][0]:\n",
    "        height = info[\"streams\"][0][\"height\"]\n",
    "    elif \"height\" in info[\"streams\"][1]:\n",
    "        height = info[\"streams\"][1][\"height\"]\n",
    "    else:\n",
    "        height = 0\n",
    "        \n",
    "    if \"width\" in info[\"streams\"][0]:\n",
    "        width = info[\"streams\"][0][\"width\"]\n",
    "    elif \"width\" in info[\"streams\"][1]:\n",
    "        width = info[\"streams\"][1][\"width\"]\n",
    "    else:\n",
    "        width = 0\n",
    "    \n",
    "    resolution = f\"{width}x{height}\"\n",
    "    \n",
    "    if resolution not in resolution_dict:\n",
    "        resolution_dict[resolution] =  1\n",
    "    else:\n",
    "        resolution_dict[resolution] += 1\n",
    "    \n",
    "print(len(durarion_list))\n",
    "print(resolution_dict)\n",
    "print(len(resolution_dict))\n",
    "\n"
   ]
  },
  {
   "cell_type": "code",
   "execution_count": 10,
   "metadata": {},
   "outputs": [
    {
     "name": "stdout",
     "output_type": "stream",
     "text": [
      "min =  129499\n",
      "hour =  2158.3166666666666\n",
      "day =  89.92986111111111\n",
      "[0, 0, 0, 0, 0, 0, 0, 0, 0, 0, 0, 0, 0, 0, 0, 0, 0, 0, 0, 0, 0, 0, 0, 0, 0, 0, 0, 0, 0, 0, 0, 0, 0, 0, 0, 0, 0, 0, 0, 0, 0, 0, 0, 0, 0, 0, 0, 0, 0, 0]\n",
      "9\n"
     ]
    },
    {
     "data": {
      "image/png": "[encoded data removed]",
      "text/plain": [
       "<Figure size 432x288 with 1 Axes>"
      ]
     },
     "metadata": {
      "needs_background": "light"
     },
     "output_type": "display_data"
    }
   ],
   "source": [
    "import matplotlib.pyplot as plt \n",
    "import matplotlib\n",
    "import numpy as np\n",
    "#matplotlib.use('Agg')\n",
    "durarion_list.sort()\n",
    "print(\"min = \", sum(durarion_list))\n",
    "print(\"hour = \", sum(durarion_list)/60)\n",
    "print(\"day = \", sum(durarion_list)/60/24)\n",
    "print(durarion_list[:50])\n",
    "print(durarion_list[int(len(durarion_list)*0.7)])\n",
    "plt.plot(durarion_list)\n",
    "plt.grid(True)\n",
    "plt.title(\"Video Duration Distribution\")\n",
    "plt.xlabel(\"video index\")\n",
    "plt.ylabel(\"Duration\")\n",
    "plt.tight_layout()\n",
    "plt.show()\n",
    " "
   ]
  },
  {
   "cell_type": "code",
   "execution_count": 11,
   "metadata": {},
   "outputs": [
    {
     "name": "stdout",
     "output_type": "stream",
     "text": [
      "0.06076652860063965\n",
      "0.15760499134902742\n",
      "0.2579038431290306\n",
      "0.4462328946678551\n"
     ]
    },
    {
     "ename": "ValueError",
     "evalue": "31 is not in list",
     "output_type": "error",
     "traceback": [
      "\u001b[0;31m---------------------------------------------------------------------------\u001b[0m",
      "\u001b[0;31mValueError\u001b[0m                                Traceback (most recent call last)",
      "\u001b[0;32m<ipython-input-11-d30492e36021>\u001b[0m in \u001b[0;36m<module>\u001b[0;34m\u001b[0m\n\u001b[1;32m      3\u001b[0m \u001b[0mprint\u001b[0m\u001b[0;34m(\u001b[0m\u001b[0mdurarion_list\u001b[0m\u001b[0;34m.\u001b[0m\u001b[0mindex\u001b[0m\u001b[0;34m(\u001b[0m\u001b[0;36m3\u001b[0m\u001b[0;34m)\u001b[0m\u001b[0;34m/\u001b[0m\u001b[0mlen\u001b[0m\u001b[0;34m(\u001b[0m\u001b[0mdurarion_list\u001b[0m\u001b[0;34m)\u001b[0m\u001b[0;34m)\u001b[0m\u001b[0;34m\u001b[0m\u001b[0;34m\u001b[0m\u001b[0m\n\u001b[1;32m      4\u001b[0m \u001b[0mprint\u001b[0m\u001b[0;34m(\u001b[0m\u001b[0mdurarion_list\u001b[0m\u001b[0;34m.\u001b[0m\u001b[0mindex\u001b[0m\u001b[0;34m(\u001b[0m\u001b[0;36m5\u001b[0m\u001b[0;34m)\u001b[0m\u001b[0;34m/\u001b[0m\u001b[0mlen\u001b[0m\u001b[0;34m(\u001b[0m\u001b[0mdurarion_list\u001b[0m\u001b[0;34m)\u001b[0m\u001b[0;34m)\u001b[0m\u001b[0;34m\u001b[0m\u001b[0;34m\u001b[0m\u001b[0m\n\u001b[0;32m----> 5\u001b[0;31m \u001b[0mprint\u001b[0m\u001b[0;34m(\u001b[0m\u001b[0mdurarion_list\u001b[0m\u001b[0;34m.\u001b[0m\u001b[0mindex\u001b[0m\u001b[0;34m(\u001b[0m\u001b[0;36m31\u001b[0m\u001b[0;34m)\u001b[0m\u001b[0;34m/\u001b[0m\u001b[0mlen\u001b[0m\u001b[0;34m(\u001b[0m\u001b[0mdurarion_list\u001b[0m\u001b[0;34m)\u001b[0m\u001b[0;34m)\u001b[0m\u001b[0;34m\u001b[0m\u001b[0;34m\u001b[0m\u001b[0m\n\u001b[0m\u001b[1;32m      6\u001b[0m \u001b[0mprint\u001b[0m\u001b[0;34m(\u001b[0m\u001b[0mdurarion_list\u001b[0m\u001b[0;34m.\u001b[0m\u001b[0mindex\u001b[0m\u001b[0;34m(\u001b[0m\u001b[0;36m41\u001b[0m\u001b[0;34m)\u001b[0m\u001b[0;34m/\u001b[0m\u001b[0mlen\u001b[0m\u001b[0;34m(\u001b[0m\u001b[0mdurarion_list\u001b[0m\u001b[0;34m)\u001b[0m\u001b[0;34m)\u001b[0m\u001b[0;34m\u001b[0m\u001b[0;34m\u001b[0m\u001b[0m\n\u001b[1;32m      7\u001b[0m \u001b[0mprint\u001b[0m\u001b[0;34m(\u001b[0m\u001b[0mdurarion_list\u001b[0m\u001b[0;34m.\u001b[0m\u001b[0mindex\u001b[0m\u001b[0;34m(\u001b[0m\u001b[0;36m51\u001b[0m\u001b[0;34m)\u001b[0m\u001b[0;34m/\u001b[0m\u001b[0mlen\u001b[0m\u001b[0;34m(\u001b[0m\u001b[0mdurarion_list\u001b[0m\u001b[0;34m)\u001b[0m\u001b[0;34m)\u001b[0m\u001b[0;34m\u001b[0m\u001b[0;34m\u001b[0m\u001b[0m\n",
      "\u001b[0;31mValueError\u001b[0m: 31 is not in list"
     ]
    }
   ],
   "source": [
    "print(durarion_list.index(1)/len(durarion_list))\n",
    "print(durarion_list.index(2)/len(durarion_list))\n",
    "print(durarion_list.index(3)/len(durarion_list))\n",
    "print(durarion_list.index(5)/len(durarion_list))\n",
    "print(durarion_list.index(31)/len(durarion_list))\n",
    "print(durarion_list.index(41)/len(durarion_list))\n",
    "print(durarion_list.index(51)/len(durarion_list))\n",
    "print(durarion_list.index(61)/len(durarion_list))"
   ]
  },
  {
   "cell_type": "code",
   "execution_count": 13,
   "metadata": {},
   "outputs": [
    {
     "data": {
      "image/png": "[encoded data removed]",
      "text/plain": [
       "<Figure size 432x288 with 1 Axes>"
      ]
     },
     "metadata": {
      "needs_background": "light"
     },
     "output_type": "display_data"
    }
   ],
   "source": [
    "import matplotlib.pyplot as plt \n",
    "import matplotlib\n",
    "#matplotlib.use('Agg')\n",
    "\n",
    "\n",
    "plt.bar(resolution_dict.keys(), resolution_dict.values(), width=1.0, color='g')\n",
    "plt.show()    "
   ]
  },
  {
   "cell_type": "code",
   "execution_count": null,
   "metadata": {},
   "outputs": [],
   "source": [
    "import collections\n",
    "sorted_resolution = sorted(resolution_dict.items(), key=lambda kv: kv[1], reverse=True)\n",
    "sorted_resolution  = collections.OrderedDict(sorted_resolution)\n",
    "list(sorted_resolution.keys())"
   ]
  },
  {
   "cell_type": "code",
   "execution_count": 15,
   "metadata": {},
   "outputs": [
    {
     "data": {
      "image/png": "[encoded data removed]",
      "text/plain": [
       "<Figure size 432x288 with 1 Axes>"
      ]
     },
     "metadata": {},
     "output_type": "display_data"
    }
   ],
   "source": [
    "import matplotlib.pyplot as plt\n",
    "\n",
    "# Pie chart, where the slices will be ordered and plotted counter-clockwise:\n",
    "labels = list(resolution_dict.keys())\n",
    "sizes = list(resolution_dict.values())\n",
    "#explode = (0.1, 0.1, 0, 0)  # only \"explode\" the 2nd slice (i.e. 'Hogs')\n",
    "\n",
    "fig1, ax1 = plt.subplots()\n",
    "ax1.pie(sizes, explode=None, labels=labels, autopct='%1.1f%%',\n",
    "        shadow=True, startangle=90)\n",
    "ax1.axis('equal')  # Equal aspect ratio ensures that pie is drawn as a circle.\n",
    "\n",
    "plt.show()"
   ]
  }
 ],
 "metadata": {
  "kernelspec": {
   "display_name": "Python 3",
   "language": "python",
   "name": "python3"
  },
  "language_info": {
   "codemirror_mode": {
    "name": "ipython",
    "version": 3
   },
   "file_extension": ".py",
   "mimetype": "text/x-python",
   "name": "python",
   "nbconvert_exporter": "python",
   "pygments_lexer": "ipython3",
   "version": "3.6.7"
  }
 },
 "nbformat": 4,
 "nbformat_minor": 2
}
